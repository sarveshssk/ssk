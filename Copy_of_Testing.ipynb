{
  "nbformat": 4,
  "nbformat_minor": 0,
  "metadata": {
    "colab": {
      "provenance": [],
      "mount_file_id": "1jrWWKwUyAQxQ1ezsC1NBNcEMglrKL5vK",
      "authorship_tag": "ABX9TyOw/NjDwsTdziESk+jlsI4+",
      "include_colab_link": true
    },
    "kernelspec": {
      "name": "python3",
      "display_name": "Python 3"
    },
    "language_info": {
      "name": "python"
    }
  },
  "cells": [
    {
      "cell_type": "markdown",
      "metadata": {
        "id": "view-in-github",
        "colab_type": "text"
      },
      "source": [
        "<a href=\"https://colab.research.google.com/github/sarveshssk/ssk/blob/main/Copy_of_Testing.ipynb\" target=\"_parent\"><img src=\"https://colab.research.google.com/assets/colab-badge.svg\" alt=\"Open In Colab\"/></a>"
      ]
    },
    {
      "cell_type": "markdown",
      "source": [
        "\n",
        "\n",
        "**Importing Libraries**"
      ],
      "metadata": {
        "id": "EvqKQqgWahjO"
      }
    },
    {
      "cell_type": "code",
      "execution_count": null,
      "metadata": {
        "id": "KedmoNnmaVRX"
      },
      "outputs": [],
      "source": [
        "import numpy as np\n",
        "import tensorflow as tf\n",
        "import matplotlib.pyplot as plt"
      ]
    },
    {
      "cell_type": "code",
      "source": [
        "from google.colab import drive\n",
        "drive.mount('/content/drive')"
      ],
      "metadata": {
        "id": "UuMLjT1marBm"
      },
      "execution_count": null,
      "outputs": []
    },
    {
      "cell_type": "markdown",
      "source": [
        "# Loading Model"
      ],
      "metadata": {
        "id": "I3Uvw1rMbKSW"
      }
    },
    {
      "cell_type": "code",
      "source": [
        "\n",
        "cnn = tf.keras.models.load_model('/content/drive/MyDrive/snacks/snacks_model.h5')"
      ],
      "metadata": {
        "id": "9TDqj67_bNzX"
      },
      "execution_count": null,
      "outputs": []
    },
    {
      "cell_type": "markdown",
      "source": [
        "# Visualising and Performing Prediction on Single image"
      ],
      "metadata": {
        "id": "wg5xjVIldP1H"
      }
    },
    {
      "cell_type": "code",
      "source": [
        "#Test Image Visualization\n",
        "import cv2\n",
        "image_path = '/content/drive/MyDrive/snacks/snacks/test/Doritos Cheese Flavour/Screenshot-2024-06-25-130647_png_jpg.rf.ea362b9832179696ede6cad7054d124a.jpg'\n",
        "# Reading an image in default mode\n",
        "img = cv2.imread(image_path)\n",
        "img = cv2.cvtColor(img,cv2.COLOR_BGR2RGB) #Converting BGR to RGB\n",
        "# Displaying the image\n",
        "plt.imshow(img)\n",
        "plt.title('Test Image')\n",
        "plt.xticks([])\n",
        "plt.yticks([])\n",
        "plt.show()"
      ],
      "metadata": {
        "id": "zYOJUprsdSl_"
      },
      "execution_count": null,
      "outputs": []
    },
    {
      "cell_type": "markdown",
      "source": [
        "# Testing Model"
      ],
      "metadata": {
        "id": "pSOU2ooYd_HI"
      }
    },
    {
      "cell_type": "code",
      "source": [
        "image = tf.keras.preprocessing.image.load_img(image_path,target_size=(64,64)) #use same format that used for training\n",
        "input_arr = tf.keras.preprocessing.image.img_to_array(image)\n",
        "input_arr = np.array([input_arr])  # Convert single image to a batch.\n",
        "predictions = cnn.predict(input_arr)"
      ],
      "metadata": {
        "id": "zsndevcXeEEg"
      },
      "execution_count": null,
      "outputs": []
    },
    {
      "cell_type": "code",
      "source": [
        "print(predictions)"
      ],
      "metadata": {
        "id": "z2IaPsNNe5gw"
      },
      "execution_count": null,
      "outputs": []
    },
    {
      "cell_type": "code",
      "source": [
        "test_set = tf.keras.utils.image_dataset_from_directory(\n",
        "    '/content/drive/MyDrive/snacks/snacks/test',\n",
        "    labels=\"inferred\",\n",
        "    label_mode=\"categorical\",\n",
        "    class_names=None,\n",
        "    color_mode=\"rgb\",\n",
        "    batch_size=32,\n",
        "    image_size=(64, 64),\n",
        "    shuffle=True,\n",
        "    seed=None,\n",
        "    validation_split=None,\n",
        "    subset=None,\n",
        "    interpolation=\"bilinear\",\n",
        "    follow_links=False,\n",
        "    crop_to_aspect_ratio=False\n",
        ")#xxxx"
      ],
      "metadata": {
        "id": "Vhn5u1MafJRo"
      },
      "execution_count": null,
      "outputs": []
    },
    {
      "cell_type": "code",
      "source": [
        "test_set.class_names"
      ],
      "metadata": {
        "id": "r32BBudWfZkA"
      },
      "execution_count": null,
      "outputs": []
    },
    {
      "cell_type": "code",
      "source": [
        "result_index = np.argmax(predictions) #Return index of max element\n",
        "print(result_index)"
      ],
      "metadata": {
        "id": "mlnQBrA-fwxn"
      },
      "execution_count": null,
      "outputs": []
    },
    {
      "cell_type": "code",
      "source": [
        "# Displaying the image\n",
        "plt.imshow(img)\n",
        "plt.title('Test Image')\n",
        "plt.xticks([])\n",
        "plt.yticks([])\n",
        "plt.show()"
      ],
      "metadata": {
        "id": "l47dckspgK9A"
      },
      "execution_count": null,
      "outputs": []
    },
    {
      "cell_type": "code",
      "source": [
        "#Single image Prediction\n",
        "print(\"It's a {}\".format(test_set.class_names[result_index]))"
      ],
      "metadata": {
        "id": "MnDYkY7pgSDI"
      },
      "execution_count": null,
      "outputs": []
    }
  ]
}